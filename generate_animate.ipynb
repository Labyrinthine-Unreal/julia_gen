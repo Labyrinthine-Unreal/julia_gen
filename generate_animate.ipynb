{
 "cells": [
  {
   "cell_type": "code",
   "execution_count": 1,
   "metadata": {
    "ExecuteTime": {
     "end_time": "2022-02-11T15:38:16.530182Z",
     "start_time": "2022-02-11T15:36:08.049134Z"
    }
   },
   "outputs": [
    {
     "ename": "KeyboardInterrupt",
     "evalue": "",
     "output_type": "error",
     "traceback": [
      "\u001b[1;31m---------------------------------------------------------------------------\u001b[0m",
      "\u001b[1;31mKeyboardInterrupt\u001b[0m                         Traceback (most recent call last)",
      "\u001b[1;32m<ipython-input-1-97b830ecde2d>\u001b[0m in \u001b[0;36m<module>\u001b[1;34m\u001b[0m\n\u001b[0;32m     38\u001b[0m     \u001b[0mcx\u001b[0m \u001b[1;33m=\u001b[0m \u001b[1;36m0.7885\u001b[0m\u001b[1;33m*\u001b[0m\u001b[0mmath\u001b[0m\u001b[1;33m.\u001b[0m\u001b[0mcos\u001b[0m\u001b[1;33m(\u001b[0m\u001b[0mi\u001b[0m\u001b[1;33m*\u001b[0m\u001b[0mmath\u001b[0m\u001b[1;33m.\u001b[0m\u001b[0mpi\u001b[0m\u001b[1;33m/\u001b[0m\u001b[1;36m180\u001b[0m\u001b[1;33m)\u001b[0m\u001b[1;33m\u001b[0m\u001b[1;33m\u001b[0m\u001b[0m\n\u001b[0;32m     39\u001b[0m     \u001b[0mcy\u001b[0m \u001b[1;33m=\u001b[0m \u001b[1;36m0.7885\u001b[0m\u001b[1;33m*\u001b[0m\u001b[0mmath\u001b[0m\u001b[1;33m.\u001b[0m\u001b[0msin\u001b[0m\u001b[1;33m(\u001b[0m\u001b[0mi\u001b[0m\u001b[1;33m*\u001b[0m\u001b[0mmath\u001b[0m\u001b[1;33m.\u001b[0m\u001b[0mpi\u001b[0m\u001b[1;33m/\u001b[0m\u001b[1;36m180\u001b[0m\u001b[1;33m)\u001b[0m\u001b[1;33m\u001b[0m\u001b[1;33m\u001b[0m\u001b[0m\n\u001b[1;32m---> 40\u001b[1;33m     \u001b[0mgen_julia_image\u001b[0m\u001b[1;33m(\u001b[0m\u001b[0mi\u001b[0m\u001b[1;33m,\u001b[0m\u001b[0mcx\u001b[0m\u001b[1;33m,\u001b[0m\u001b[0mcy\u001b[0m\u001b[1;33m)\u001b[0m\u001b[1;33m\u001b[0m\u001b[1;33m\u001b[0m\u001b[0m\n\u001b[0m\u001b[0;32m     41\u001b[0m \u001b[1;33m\u001b[0m\u001b[0m\n",
      "\u001b[1;32m<ipython-input-1-97b830ecde2d>\u001b[0m in \u001b[0;36mgen_julia_image\u001b[1;34m(sequence, cx, cy)\u001b[0m\n\u001b[0;32m     32\u001b[0m             \u001b[0mb\u001b[0m \u001b[1;33m=\u001b[0m \u001b[0mmin\u001b[0m\u001b[1;33m(\u001b[0m\u001b[1;36m255\u001b[0m\u001b[1;33m,\u001b[0m\u001b[0mround\u001b[0m\u001b[1;33m(\u001b[0m\u001b[0mb\u001b[0m\u001b[1;33m*\u001b[0m\u001b[1;36m255\u001b[0m\u001b[1;33m)\u001b[0m\u001b[1;33m)\u001b[0m\u001b[1;33m\u001b[0m\u001b[1;33m\u001b[0m\u001b[0m\n\u001b[0;32m     33\u001b[0m             \u001b[0mpix\u001b[0m\u001b[1;33m[\u001b[0m\u001b[0mx\u001b[0m\u001b[1;33m,\u001b[0m\u001b[0my\u001b[0m\u001b[1;33m]\u001b[0m \u001b[1;33m=\u001b[0m \u001b[0mint\u001b[0m\u001b[1;33m(\u001b[0m\u001b[0mb\u001b[0m\u001b[1;33m)\u001b[0m \u001b[1;33m+\u001b[0m \u001b[1;33m(\u001b[0m\u001b[0mint\u001b[0m\u001b[1;33m(\u001b[0m\u001b[0mg\u001b[0m\u001b[1;33m)\u001b[0m \u001b[1;33m<<\u001b[0m \u001b[1;36m8\u001b[0m\u001b[1;33m)\u001b[0m \u001b[1;33m+\u001b[0m \u001b[1;33m(\u001b[0m\u001b[0mint\u001b[0m\u001b[1;33m(\u001b[0m\u001b[0mr\u001b[0m\u001b[1;33m)\u001b[0m \u001b[1;33m<<\u001b[0m \u001b[1;36m16\u001b[0m\u001b[1;33m)\u001b[0m\u001b[1;33m\u001b[0m\u001b[1;33m\u001b[0m\u001b[0m\n\u001b[1;32m---> 34\u001b[1;33m     \u001b[0mbitmap\u001b[0m\u001b[1;33m.\u001b[0m\u001b[0msave\u001b[0m\u001b[1;33m(\u001b[0m\u001b[1;34m\"images4/julia_\"\u001b[0m\u001b[1;33m+\u001b[0m\u001b[0mstr\u001b[0m\u001b[1;33m(\u001b[0m\u001b[0msequence\u001b[0m\u001b[1;33m)\u001b[0m\u001b[1;33m+\u001b[0m\u001b[1;34m\".jpg\"\u001b[0m\u001b[1;33m)\u001b[0m\u001b[1;33m\u001b[0m\u001b[1;33m\u001b[0m\u001b[0m\n\u001b[0m\u001b[0;32m     35\u001b[0m \u001b[1;33m\u001b[0m\u001b[0m\n\u001b[0;32m     36\u001b[0m \u001b[1;33m\u001b[0m\u001b[0m\n",
      "\u001b[1;32mC:\\ProgramData\\Anaconda3\\lib\\site-packages\\PIL\\Image.py\u001b[0m in \u001b[0;36msave\u001b[1;34m(self, fp, format, **params)\u001b[0m\n\u001b[0;32m   2153\u001b[0m                 \u001b[0mfp\u001b[0m \u001b[1;33m=\u001b[0m \u001b[0mbuiltins\u001b[0m\u001b[1;33m.\u001b[0m\u001b[0mopen\u001b[0m\u001b[1;33m(\u001b[0m\u001b[0mfilename\u001b[0m\u001b[1;33m,\u001b[0m \u001b[1;34m\"r+b\"\u001b[0m\u001b[1;33m)\u001b[0m\u001b[1;33m\u001b[0m\u001b[1;33m\u001b[0m\u001b[0m\n\u001b[0;32m   2154\u001b[0m             \u001b[1;32melse\u001b[0m\u001b[1;33m:\u001b[0m\u001b[1;33m\u001b[0m\u001b[1;33m\u001b[0m\u001b[0m\n\u001b[1;32m-> 2155\u001b[1;33m                 \u001b[0mfp\u001b[0m \u001b[1;33m=\u001b[0m \u001b[0mbuiltins\u001b[0m\u001b[1;33m.\u001b[0m\u001b[0mopen\u001b[0m\u001b[1;33m(\u001b[0m\u001b[0mfilename\u001b[0m\u001b[1;33m,\u001b[0m \u001b[1;34m\"w+b\"\u001b[0m\u001b[1;33m)\u001b[0m\u001b[1;33m\u001b[0m\u001b[1;33m\u001b[0m\u001b[0m\n\u001b[0m\u001b[0;32m   2156\u001b[0m \u001b[1;33m\u001b[0m\u001b[0m\n\u001b[0;32m   2157\u001b[0m         \u001b[1;32mtry\u001b[0m\u001b[1;33m:\u001b[0m\u001b[1;33m\u001b[0m\u001b[1;33m\u001b[0m\u001b[0m\n",
      "\u001b[1;31mKeyboardInterrupt\u001b[0m: "
     ]
    }
   ],
   "source": [
    "from PIL import Image\n",
    "import colorsys\n",
    "import math\n",
    "\n",
    "cx = 0.6925\n",
    "cy = -0.4567\n",
    "R = (1+(1+4*(cx**2+cy**2)**0.5)**0.5)/2+0.001\n",
    "max_iteration = 200\n",
    "\n",
    "w, h, zoom = 1000,1000,1\n",
    "\n",
    "def julia(cx,cy,R,max_iteration,x,y,minx,maxx,miny,maxy):\n",
    "    zx = (x-minx)/(maxx-minx)*2*R-R\n",
    "    zy = (y-miny)/(maxy-miny)*2*R-R\n",
    "    i=0\n",
    "    while zx**2 + zy**2 < R**2 and i < max_iteration:\n",
    "        temp = zx**2 - zy**2\n",
    "        zy = 2*zx*zy + cy\n",
    "        zx = temp + cx\n",
    "        i += 1\n",
    "    return i\n",
    "\n",
    "def gen_julia_image(sequence,cx,cy):\n",
    "    bitmap = Image.new(\"RGB\", (w, h), \"white\")\n",
    "    pix = bitmap.load()\n",
    "    for x in range(w):\n",
    "        for y in range(h):\n",
    "            c=julia(cx,cy,R,max_iteration,x,y,0,w-1,0,h-1)\n",
    "            r,g,b = colorsys.hsv_to_rgb(c/max_iteration,1,0.9)\n",
    "            r = min(255,round(r*255))\n",
    "            g = min(255,round(g*255))\n",
    "            b = min(255,round(b*255))\n",
    "            pix[x,y] = int(b) + (int(g) << 8) + (int(r) << 16)\n",
    "    bitmap.save(\"images4/julia_\"+str(sequence)+\".jpg\")\n",
    "\n",
    "\n",
    "for i in range(360):\n",
    "    cx = 0.7885*math.cos(i*math.pi/180)\n",
    "    cy = 0.7885*math.sin(i*math.pi/180)\n",
    "    gen_julia_image(i,cx,cy)\n",
    "\n"
   ]
  },
  {
   "cell_type": "code",
   "execution_count": 6,
   "metadata": {
    "ExecuteTime": {
     "end_time": "2021-11-15T05:05:36.170870Z",
     "start_time": "2021-11-15T05:05:33.086761Z"
    }
   },
   "outputs": [],
   "source": [
    "import cv2\n",
    "import numpy as np\n",
    "import glob\n",
    "img_array = []\n",
    "for filename in sorted(glob.glob('images6/*.png')):\n",
    "    img = cv2.imread(filename)\n",
    "    height, width, layers = img.shape\n",
    "    size = (width,height)\n",
    "    img_array.append(img)\n",
    " \n",
    " \n",
    "out = cv2.VideoWriter('images6/bounce1.mp4',cv2.VideoWriter_fourcc(*'DIVX'), 5, size)\n",
    " \n",
    "for i in range(len(img_array)):\n",
    "    out.write(img_array[i])\n",
    "out.release()"
   ]
  },
  {
   "cell_type": "code",
   "execution_count": 11,
   "metadata": {
    "ExecuteTime": {
     "end_time": "2021-11-20T18:38:45.457312Z",
     "start_time": "2021-11-20T18:26:21.449376Z"
    }
   },
   "outputs": [
    {
     "ename": "MemoryError",
     "evalue": "",
     "output_type": "error",
     "traceback": [
      "\u001b[1;31m---------------------------------------------------------------------------\u001b[0m",
      "\u001b[1;31mMemoryError\u001b[0m                               Traceback (most recent call last)",
      "\u001b[1;32m<ipython-input-11-df1ff60c7768>\u001b[0m in \u001b[0;36m<module>\u001b[1;34m\u001b[0m\n\u001b[0;32m     99\u001b[0m \u001b[1;31m#     return\u001b[0m\u001b[1;33m\u001b[0m\u001b[1;33m\u001b[0m\u001b[1;33m\u001b[0m\u001b[0m\n\u001b[0;32m    100\u001b[0m \u001b[1;33m\u001b[0m\u001b[0m\n\u001b[1;32m--> 101\u001b[1;33m \u001b[0mrotate\u001b[0m\u001b[1;33m(\u001b[0m\u001b[1;34m\"images7/Deep_Blue.jpg\"\u001b[0m\u001b[1;33m)\u001b[0m\u001b[1;33m\u001b[0m\u001b[1;33m\u001b[0m\u001b[0m\n\u001b[0m\u001b[0;32m    102\u001b[0m \u001b[1;33m\u001b[0m\u001b[0m\n\u001b[0;32m    103\u001b[0m \u001b[1;31m# import cv2  # importing cv\u001b[0m\u001b[1;33m\u001b[0m\u001b[1;33m\u001b[0m\u001b[1;33m\u001b[0m\u001b[0m\n",
      "\u001b[1;32m<ipython-input-11-df1ff60c7768>\u001b[0m in \u001b[0;36mrotate\u001b[1;34m(image)\u001b[0m\n\u001b[0;32m     37\u001b[0m     \u001b[0mrotated_image24\u001b[0m \u001b[1;33m=\u001b[0m \u001b[0mOriginal_Image\u001b[0m\u001b[1;33m.\u001b[0m\u001b[0mrotate\u001b[0m\u001b[1;33m(\u001b[0m\u001b[1;36m65\u001b[0m\u001b[1;33m)\u001b[0m\u001b[1;33m\u001b[0m\u001b[1;33m\u001b[0m\u001b[0m\n\u001b[0;32m     38\u001b[0m     \u001b[0mrotated_image26\u001b[0m \u001b[1;33m=\u001b[0m \u001b[0mOriginal_Image\u001b[0m\u001b[1;33m.\u001b[0m\u001b[0mrotate\u001b[0m\u001b[1;33m(\u001b[0m\u001b[1;36m55\u001b[0m\u001b[1;33m)\u001b[0m\u001b[1;33m\u001b[0m\u001b[1;33m\u001b[0m\u001b[0m\n\u001b[1;32m---> 39\u001b[1;33m     \u001b[0mrotated_image28\u001b[0m \u001b[1;33m=\u001b[0m \u001b[0mOriginal_Image\u001b[0m\u001b[1;33m.\u001b[0m\u001b[0mrotate\u001b[0m\u001b[1;33m(\u001b[0m\u001b[1;36m45\u001b[0m\u001b[1;33m)\u001b[0m\u001b[1;33m\u001b[0m\u001b[1;33m\u001b[0m\u001b[0m\n\u001b[0m\u001b[0;32m     40\u001b[0m     \u001b[0mrotated_image30\u001b[0m \u001b[1;33m=\u001b[0m \u001b[0mOriginal_Image\u001b[0m\u001b[1;33m.\u001b[0m\u001b[0mrotate\u001b[0m\u001b[1;33m(\u001b[0m\u001b[1;36m35\u001b[0m\u001b[1;33m)\u001b[0m\u001b[1;33m\u001b[0m\u001b[1;33m\u001b[0m\u001b[0m\n\u001b[0;32m     41\u001b[0m     \u001b[0mrotated_image32\u001b[0m \u001b[1;33m=\u001b[0m \u001b[0mOriginal_Image\u001b[0m\u001b[1;33m.\u001b[0m\u001b[0mrotate\u001b[0m\u001b[1;33m(\u001b[0m\u001b[1;36m25\u001b[0m\u001b[1;33m)\u001b[0m\u001b[1;33m\u001b[0m\u001b[1;33m\u001b[0m\u001b[0m\n",
      "\u001b[1;32mC:\\ProgramData\\Anaconda3\\lib\\site-packages\\PIL\\Image.py\u001b[0m in \u001b[0;36mrotate\u001b[1;34m(self, angle, resample, expand, center, translate, fillcolor)\u001b[0m\n\u001b[0;32m   2077\u001b[0m             \u001b[0mw\u001b[0m\u001b[1;33m,\u001b[0m \u001b[0mh\u001b[0m \u001b[1;33m=\u001b[0m \u001b[0mnw\u001b[0m\u001b[1;33m,\u001b[0m \u001b[0mnh\u001b[0m\u001b[1;33m\u001b[0m\u001b[1;33m\u001b[0m\u001b[0m\n\u001b[0;32m   2078\u001b[0m \u001b[1;33m\u001b[0m\u001b[0m\n\u001b[1;32m-> 2079\u001b[1;33m         \u001b[1;32mreturn\u001b[0m \u001b[0mself\u001b[0m\u001b[1;33m.\u001b[0m\u001b[0mtransform\u001b[0m\u001b[1;33m(\u001b[0m\u001b[1;33m(\u001b[0m\u001b[0mw\u001b[0m\u001b[1;33m,\u001b[0m \u001b[0mh\u001b[0m\u001b[1;33m)\u001b[0m\u001b[1;33m,\u001b[0m \u001b[0mAFFINE\u001b[0m\u001b[1;33m,\u001b[0m \u001b[0mmatrix\u001b[0m\u001b[1;33m,\u001b[0m \u001b[0mresample\u001b[0m\u001b[1;33m,\u001b[0m \u001b[0mfillcolor\u001b[0m\u001b[1;33m=\u001b[0m\u001b[0mfillcolor\u001b[0m\u001b[1;33m)\u001b[0m\u001b[1;33m\u001b[0m\u001b[1;33m\u001b[0m\u001b[0m\n\u001b[0m\u001b[0;32m   2080\u001b[0m \u001b[1;33m\u001b[0m\u001b[0m\n\u001b[0;32m   2081\u001b[0m     \u001b[1;32mdef\u001b[0m \u001b[0msave\u001b[0m\u001b[1;33m(\u001b[0m\u001b[0mself\u001b[0m\u001b[1;33m,\u001b[0m \u001b[0mfp\u001b[0m\u001b[1;33m,\u001b[0m \u001b[0mformat\u001b[0m\u001b[1;33m=\u001b[0m\u001b[1;32mNone\u001b[0m\u001b[1;33m,\u001b[0m \u001b[1;33m**\u001b[0m\u001b[0mparams\u001b[0m\u001b[1;33m)\u001b[0m\u001b[1;33m:\u001b[0m\u001b[1;33m\u001b[0m\u001b[1;33m\u001b[0m\u001b[0m\n",
      "\u001b[1;32mC:\\ProgramData\\Anaconda3\\lib\\site-packages\\PIL\\Image.py\u001b[0m in \u001b[0;36mtransform\u001b[1;34m(self, size, method, data, resample, fill, fillcolor)\u001b[0m\n\u001b[0;32m   2404\u001b[0m             \u001b[1;32mraise\u001b[0m \u001b[0mValueError\u001b[0m\u001b[1;33m(\u001b[0m\u001b[1;34m\"missing method data\"\u001b[0m\u001b[1;33m)\u001b[0m\u001b[1;33m\u001b[0m\u001b[1;33m\u001b[0m\u001b[0m\n\u001b[0;32m   2405\u001b[0m \u001b[1;33m\u001b[0m\u001b[0m\n\u001b[1;32m-> 2406\u001b[1;33m         \u001b[0mim\u001b[0m \u001b[1;33m=\u001b[0m \u001b[0mnew\u001b[0m\u001b[1;33m(\u001b[0m\u001b[0mself\u001b[0m\u001b[1;33m.\u001b[0m\u001b[0mmode\u001b[0m\u001b[1;33m,\u001b[0m \u001b[0msize\u001b[0m\u001b[1;33m,\u001b[0m \u001b[0mfillcolor\u001b[0m\u001b[1;33m)\u001b[0m\u001b[1;33m\u001b[0m\u001b[1;33m\u001b[0m\u001b[0m\n\u001b[0m\u001b[0;32m   2407\u001b[0m         \u001b[0mim\u001b[0m\u001b[1;33m.\u001b[0m\u001b[0minfo\u001b[0m \u001b[1;33m=\u001b[0m \u001b[0mself\u001b[0m\u001b[1;33m.\u001b[0m\u001b[0minfo\u001b[0m\u001b[1;33m.\u001b[0m\u001b[0mcopy\u001b[0m\u001b[1;33m(\u001b[0m\u001b[1;33m)\u001b[0m\u001b[1;33m\u001b[0m\u001b[1;33m\u001b[0m\u001b[0m\n\u001b[0;32m   2408\u001b[0m         \u001b[1;32mif\u001b[0m \u001b[0mmethod\u001b[0m \u001b[1;33m==\u001b[0m \u001b[0mMESH\u001b[0m\u001b[1;33m:\u001b[0m\u001b[1;33m\u001b[0m\u001b[1;33m\u001b[0m\u001b[0m\n",
      "\u001b[1;32mC:\\ProgramData\\Anaconda3\\lib\\site-packages\\PIL\\Image.py\u001b[0m in \u001b[0;36mnew\u001b[1;34m(mode, size, color)\u001b[0m\n\u001b[0;32m   2595\u001b[0m     \u001b[1;32mif\u001b[0m \u001b[0mcolor\u001b[0m \u001b[1;32mis\u001b[0m \u001b[1;32mNone\u001b[0m\u001b[1;33m:\u001b[0m\u001b[1;33m\u001b[0m\u001b[1;33m\u001b[0m\u001b[0m\n\u001b[0;32m   2596\u001b[0m         \u001b[1;31m# don't initialize\u001b[0m\u001b[1;33m\u001b[0m\u001b[1;33m\u001b[0m\u001b[1;33m\u001b[0m\u001b[0m\n\u001b[1;32m-> 2597\u001b[1;33m         \u001b[1;32mreturn\u001b[0m \u001b[0mImage\u001b[0m\u001b[1;33m(\u001b[0m\u001b[1;33m)\u001b[0m\u001b[1;33m.\u001b[0m\u001b[0m_new\u001b[0m\u001b[1;33m(\u001b[0m\u001b[0mcore\u001b[0m\u001b[1;33m.\u001b[0m\u001b[0mnew\u001b[0m\u001b[1;33m(\u001b[0m\u001b[0mmode\u001b[0m\u001b[1;33m,\u001b[0m \u001b[0msize\u001b[0m\u001b[1;33m)\u001b[0m\u001b[1;33m)\u001b[0m\u001b[1;33m\u001b[0m\u001b[1;33m\u001b[0m\u001b[0m\n\u001b[0m\u001b[0;32m   2598\u001b[0m \u001b[1;33m\u001b[0m\u001b[0m\n\u001b[0;32m   2599\u001b[0m     \u001b[1;32mif\u001b[0m \u001b[0misinstance\u001b[0m\u001b[1;33m(\u001b[0m\u001b[0mcolor\u001b[0m\u001b[1;33m,\u001b[0m \u001b[0mstr\u001b[0m\u001b[1;33m)\u001b[0m\u001b[1;33m:\u001b[0m\u001b[1;33m\u001b[0m\u001b[1;33m\u001b[0m\u001b[0m\n",
      "\u001b[1;31mMemoryError\u001b[0m: "
     ]
    }
   ],
   "source": [
    "# from PIL import Image\n",
    "# import cv2\n",
    "# # Giving The Original image Directory\n",
    "# # Specified\n",
    "# def rotate(image):\n",
    "#     Original_Image = Image.open(image)\n",
    "#     rotated_image1 = Original_Image.rotate(180)\n",
    "#     rotated_image3 = Original_Image.rotate(170)\n",
    "#     rotated_image5 = Original_Image.rotate(160)\n",
    "#     rotated_image7 = Original_Image.rotate(150)\n",
    "#     rotated_image9 = Original_Image.rotate(140)\n",
    "#     rotated_image11 = Original_Image.rotate(130)\n",
    "#     rotated_image13 = Original_Image.rotate(120)\n",
    "#     rotated_image15 = Original_Image.rotate(110)\n",
    "#     rotated_image17 = Original_Image.rotate(100)\n",
    "#     rotated_image19 = Original_Image.rotate(90)\n",
    "#     rotated_image21 = Original_Image.rotate(80)\n",
    "#     rotated_image23 = Original_Image.rotate(70)\n",
    "#     rotated_image25 = Original_Image.rotate(60)\n",
    "#     rotated_image27 = Original_Image.rotate(50)\n",
    "#     rotated_image29 = Original_Image.rotate(40)\n",
    "#     rotated_image31 = Original_Image.rotate(30)\n",
    "#     rotated_image33 = Original_Image.rotate(20)\n",
    "#     rotated_image35 = Original_Image.rotate(10)\n",
    "    \n",
    "#     rotated_image2 = Original_Image.rotate(175)\n",
    "#     rotated_image4 = Original_Image.rotate(165)\n",
    "#     rotated_image6 = Original_Image.rotate(155)\n",
    "#     rotated_image8 = Original_Image.rotate(145)\n",
    "#     rotated_image10 = Original_Image.rotate(135)\n",
    "#     rotated_image12 = Original_Image.rotate(125)\n",
    "#     rotated_image14 = Original_Image.rotate(115)\n",
    "#     rotated_image16 = Original_Image.rotate(105)\n",
    "#     rotated_image18 = Original_Image.rotate(95)\n",
    "#     rotated_image20 = Original_Image.rotate(85)\n",
    "#     rotated_image22 = Original_Image.rotate(75)\n",
    "#     rotated_image24 = Original_Image.rotate(65)\n",
    "#     rotated_image26 = Original_Image.rotate(55)\n",
    "#     rotated_image28 = Original_Image.rotate(45)\n",
    "#     rotated_image30 = Original_Image.rotate(35)\n",
    "#     rotated_image32 = Original_Image.rotate(25)\n",
    "#     rotated_image34 = Original_Image.rotate(15)\n",
    "#     rotated_image36 = Original_Image.rotate(5)     \n",
    "    \n",
    "    \n",
    "#     rotated_image1.save('backgrounds/bg-spirals/deep_blue/1.png')\n",
    "#     rotated_image2.save('backgrounds/bg-spirals/deep_blue/2.png')\n",
    "#     rotated_image3.save('backgrounds/bg-spirals/deep_blue/3.png')\n",
    "#     rotated_image4.save('backgrounds/bg-spirals/deep_blue/4.png')\n",
    "#     rotated_image5.save('backgrounds/bg-spirals/deep_blue/5.png')\n",
    "#     rotated_image6.save('backgrounds/bg-spirals/deep_blue/6.png')\n",
    "#     rotated_image7.save('backgrounds/bg-spirals/deep_blue/7.png')\n",
    "#     rotated_image8.save('backgrounds/bg-spirals/deep_blue/8.png')\n",
    "#     rotated_image9.save('backgrounds/bg-spirals/deep_blue/9.png')\n",
    "#     rotated_image10.save('backgrounds/bg-spirals/deep_blue/10.png')\n",
    "#     rotated_image11.save('backgrounds/bg-spirals/deep_blue/11.png')\n",
    "#     rotated_image12.save('backgrounds/bg-spirals/deep_blue/12.png')\n",
    "#     rotated_image13.save('backgrounds/bg-spirals/deep_blue/13.png')\n",
    "#     rotated_image14.save('backgrounds/bg-spirals/deep_blue/14.png')\n",
    "#     rotated_image15.save('backgrounds/bg-spirals/deep_blue/15.png')\n",
    "#     rotated_image16.save('backgrounds/bg-spirals/deep_blue/16.png')\n",
    "#     rotated_image17.save('backgrounds/bg-spirals/deep_blue/17.png')\n",
    "#     rotated_image18.save('backgrounds/bg-spirals/deep_blue/18.png')\n",
    "#     rotated_image19.save('backgrounds/bg-spirals/deep_blue/19.png')\n",
    "#     rotated_image20.save('backgrounds/bg-spirals/deep_blue/20.png')\n",
    "#     rotated_image21.save('backgrounds/bg-spirals/deep_blue/21.png')\n",
    "#     rotated_image22.save('backgrounds/bg-spirals/deep_blue/22.png')\n",
    "#     rotated_image23.save('backgrounds/bg-spirals/deep_blue/23.png')\n",
    "#     rotated_image24.save('backgrounds/bg-spirals/deep_blue/24.png')\n",
    "#     rotated_image25.save('backgrounds/bg-spirals/deep_blue/25.png')\n",
    "#     rotated_image26.save('backgrounds/bg-spirals/deep_blue/26.png')\n",
    "#     rotated_image27.save('backgrounds/bg-spirals/deep_blue/27.png')\n",
    "#     rotated_image28.save('backgrounds/bg-spirals/deep_blue/28.png')\n",
    "#     rotated_image29.save('backgrounds/bg-spirals/deep_blue/29.png')\n",
    "#     rotated_image30.save('backgrounds/bg-spirals/deep_blue/30.png')\n",
    "#     rotated_image31.save('backgrounds/bg-spirals/deep_blue/31.png')\n",
    "#     rotated_image32.save('backgrounds/bg-spirals/deep_blue/32.png')\n",
    "#     rotated_image33.save('backgrounds/bg-spirals/deep_blue/33.png')\n",
    "#     rotated_image34.save('backgrounds/bg-spirals/deep_blue/34.png')\n",
    "#     rotated_image35.save('backgrounds/bg-spirals/deep_blue/35.png')\n",
    "#     rotated_image36.save('backgrounds/bg-spirals/deep_blue/36.png')\n",
    "# #     rotated_image10.save('backgrounds/orange/air_fire_radiation_orange60.png')\n",
    "    \n",
    "# #     import numpy as np\n",
    "# #     import glob\n",
    "# #     img_array = []\n",
    "# #     for filename in sorted(glob.glob('backgrounds/orange/*.png')):\n",
    "# #         img = cv2.imread(filename)\n",
    "# #         height, width, layers = img.shape\n",
    "# #         size = (1000,1000)\n",
    "# #         img_array.append(img)\n",
    "\n",
    "\n",
    "# #     out = cv2.VideoWriter('backgrounds/orange/background.gif',cv2.VideoWriter_fourcc(*'DIVX'), 3, size)\n",
    "\n",
    "# #     for i in range(len(img_array)):\n",
    "# #         out.write(img_array[i])\n",
    "# #     out.release()\n",
    "# #     return \n",
    "\n",
    "# rotate(\"images7/Deep_Blue.jpg\")\n",
    "\n",
    "# # import cv2  # importing cv\n",
    "# # import imutils\n",
    " \n",
    "\n",
    "# # image = cv2.imread(r\".\\gfgrotate.png\")\n",
    " \n",
    "# # Rotated_image = imutils.rotate(image, angle=45)\n",
    "# # Rotated1_image = imutils.rotate(image, angle=90)\n",
    " \n",
    "# # # display the image using OpenCV of\n",
    "# # # angle 45\n",
    "# # cv2.imshow(\"Rotated\", Rotated_image)\n",
    " \n",
    "# # # display the image using OpenCV of\n",
    "# # # angle 90\n",
    "# # cv2.imshow(\"Rotated\", Rotated1_image)\n",
    " \n",
    "# # # This is used for To Keep On Displaying\n",
    "# # # The Image Untill Any Key is Pressed\n",
    "# # cv2.waitKey(0) "
   ]
  },
  {
   "cell_type": "code",
   "execution_count": 4,
   "metadata": {
    "ExecuteTime": {
     "end_time": "2021-11-15T05:04:05.858587Z",
     "start_time": "2021-11-15T05:04:05.254759Z"
    }
   },
   "outputs": [
    {
     "name": "stderr",
     "output_type": "stream",
     "text": [
      "                                                                                                                       "
     ]
    },
    {
     "name": "stdout",
     "output_type": "stream",
     "text": [
      "MoviePy - Building file backgrounds/orange/demo.gif with imageio.\n"
     ]
    },
    {
     "name": "stderr",
     "output_type": "stream",
     "text": [
      "\r"
     ]
    }
   ],
   "source": [
    "from moviepy.editor import ImageSequenceClip\n",
    "images = []\n",
    "#load 10 images\n",
    "for i in range(5):\n",
    "    images.append('backgrounds/orange/'+str(i+1)+'.jpg')\n",
    "    \n",
    "clip = ImageSequenceClip(images,fps=10)\n",
    "clip.write_gif('backgrounds/orange/demo.gif')\n",
    "clip.close() \n",
    "\n"
   ]
  },
  {
   "cell_type": "code",
   "execution_count": 5,
   "metadata": {
    "ExecuteTime": {
     "end_time": "2021-11-18T22:43:54.649950Z",
     "start_time": "2021-11-18T22:38:45.709210Z"
    }
   },
   "outputs": [],
   "source": [
    "from moviepy.editor import ImageSequenceClip\n",
    "images = []\n",
    "#load 10 images\n",
    "for i in range(30):\n",
    "    images.append('backgrounds/bg-spirals/Deep_Blue/'+str(i+1)+'.jpg')\n",
    "    \n",
    "clip = ImageSequenceClip(images,fps=30)\n",
    "clip.write_gif('backgrounds/bg-spirals/Deep_Blue/Deep_blue.gif')\n",
    "clip.close() \n",
    "\n",
    "\n",
    "# import cv2\n",
    "# import numpy as np\n",
    "# import glob\n",
    "# img_array = []\n",
    "# for filename in sorted(glob.glob('backgrounds/bg-spirals/Sands/*.jpg')):\n",
    "#     img = cv2.imread(filename)\n",
    "#     height, width, layers = img.shape\n",
    "#     size = (width,height)\n",
    "#     img_array.append(img)\n",
    " \n",
    " \n",
    "    #     out = cv2.VideoWriter('backgrounds/bg-spirals/Sands/A_Grain_of_Sand.mp4',cv2.VideoWriter_fourcc(*'DIVX'), 60, size)\n",
    " \n",
    "    #     for i in range(len(img_array)):\n",
    "    #         out.write(img_array[i])\n",
    "    #     out.release()\n",
    "\n"
   ]
  },
  {
   "cell_type": "code",
   "execution_count": null,
   "metadata": {},
   "outputs": [],
   "source": []
  }
 ],
 "metadata": {
  "kernelspec": {
   "display_name": "Python 3",
   "language": "python",
   "name": "python3"
  },
  "language_info": {
   "codemirror_mode": {
    "name": "ipython",
    "version": 3
   },
   "file_extension": ".py",
   "mimetype": "text/x-python",
   "name": "python",
   "nbconvert_exporter": "python",
   "pygments_lexer": "ipython3",
   "version": "3.7.7"
  },
  "latex_envs": {
   "LaTeX_envs_menu_present": true,
   "autoclose": false,
   "autocomplete": true,
   "bibliofile": "biblio.bib",
   "cite_by": "apalike",
   "current_citInitial": 1,
   "eqLabelWithNumbers": true,
   "eqNumInitial": 1,
   "hotkeys": {
    "equation": "Ctrl-E",
    "itemize": "Ctrl-I"
   },
   "labels_anchors": false,
   "latex_user_defs": false,
   "report_style_numbering": true,
   "user_envs_cfg": false
  }
 },
 "nbformat": 4,
 "nbformat_minor": 4
}
