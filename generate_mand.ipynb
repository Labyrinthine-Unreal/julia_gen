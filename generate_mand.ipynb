{
 "cells": [
  {
   "cell_type": "code",
   "execution_count": 10,
   "metadata": {
    "ExecuteTime": {
     "end_time": "2021-09-07T18:47:54.402364Z",
     "start_time": "2021-09-07T18:47:51.743424Z"
    }
   },
   "outputs": [],
   "source": [
    "from PIL import Image, ImageDraw\n",
    "# from mandelbrot import mandelbrot, MAX_ITER\n",
    "from collections import defaultdict\n",
    "from math import floor, ceil\n",
    "from math import log, log2\n",
    "\n",
    "MAX_ITER = 80\n",
    "\n",
    "def mandelbrot(c):\n",
    "    z = 0\n",
    "    n = 0\n",
    "    while abs(z) <= 2 and n < MAX_ITER:\n",
    "        z = z*z + c\n",
    "        n += 1\n",
    "\n",
    "    if n == MAX_ITER:\n",
    "        return MAX_ITER\n",
    "    \n",
    "    return n + 1 - log(log2(abs(z)))\n",
    "def linear_interpolation(color1, color2, t):\n",
    "    return color1 * (1 - t) + color2 * t \n",
    "\n",
    "# Image size (pixels)\n",
    "WIDTH = 600\n",
    "HEIGHT = 400\n",
    "\n",
    "# Plot window\n",
    "RE_START = -2\n",
    "RE_END = 1\n",
    "IM_START = -1\n",
    "IM_END = 1\n",
    "\n",
    "histogram = defaultdict(lambda: 0)\n",
    "values = {}\n",
    "for x in range(0, WIDTH):\n",
    "    for y in range(0, HEIGHT):\n",
    "        # Convert pixel coordinate to complex number\n",
    "        c = complex(RE_START + (x / WIDTH) * (RE_END - RE_START),\n",
    "                    IM_START + (y / HEIGHT) * (IM_END - IM_START))\n",
    "        # Compute the number of iterations\n",
    "        m = mandelbrot(c)\n",
    "        \n",
    "        values[(x, y)] = m\n",
    "        if m < MAX_ITER:\n",
    "            histogram[floor(m)] += 1\n",
    "\n",
    "total = sum(histogram.values())\n",
    "hues = []\n",
    "h = 0\n",
    "for i in range(MAX_ITER):\n",
    "    h += histogram[i] / total\n",
    "    hues.append(h)\n",
    "hues.append(h)\n",
    " \n",
    "im = Image.new('HSV', (WIDTH, HEIGHT), (0, 0, 0))\n",
    "draw = ImageDraw.Draw(im)\n",
    "\n",
    "for x in range(0, WIDTH):\n",
    "    for y in range(0, HEIGHT):\n",
    "        m = values[(x, y)]\n",
    "        # The color depends on the number of iterations    \n",
    "        hue = 255 - int(255 * linear_interpolation(hues[floor(m)], hues[ceil(m)], m % 1))\n",
    "        saturation = 255\n",
    "        value = 255 if m < MAX_ITER else 0\n",
    "        # Plot the point\n",
    "        draw.point([x, y], (hue, saturation, value))\n",
    "\n",
    "im.convert('RGB').save('output_mand.png', 'PNG')\n",
    "\n"
   ]
  },
  {
   "cell_type": "code",
   "execution_count": null,
   "metadata": {},
   "outputs": [],
   "source": []
  }
 ],
 "metadata": {
  "kernelspec": {
   "display_name": "Python 3",
   "language": "python",
   "name": "python3"
  },
  "language_info": {
   "codemirror_mode": {
    "name": "ipython",
    "version": 3
   },
   "file_extension": ".py",
   "mimetype": "text/x-python",
   "name": "python",
   "nbconvert_exporter": "python",
   "pygments_lexer": "ipython3",
   "version": "3.7.7"
  },
  "latex_envs": {
   "LaTeX_envs_menu_present": true,
   "autoclose": false,
   "autocomplete": true,
   "bibliofile": "biblio.bib",
   "cite_by": "apalike",
   "current_citInitial": 1,
   "eqLabelWithNumbers": true,
   "eqNumInitial": 1,
   "hotkeys": {
    "equation": "Ctrl-E",
    "itemize": "Ctrl-I"
   },
   "labels_anchors": false,
   "latex_user_defs": false,
   "report_style_numbering": true,
   "user_envs_cfg": false
  }
 },
 "nbformat": 4,
 "nbformat_minor": 4
}
