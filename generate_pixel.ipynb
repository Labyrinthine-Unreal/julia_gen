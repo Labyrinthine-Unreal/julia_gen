{
 "cells": [
  {
   "cell_type": "code",
   "execution_count": 4,
   "metadata": {
    "ExecuteTime": {
     "end_time": "2021-09-07T18:52:51.012593Z",
     "start_time": "2021-09-07T18:52:50.975753Z"
    }
   },
   "outputs": [
    {
     "ename": "IndexError",
     "evalue": "tuple index out of range",
     "output_type": "error",
     "traceback": [
      "\u001b[1;31m---------------------------------------------------------------------------\u001b[0m",
      "\u001b[1;31mIndexError\u001b[0m                                Traceback (most recent call last)",
      "\u001b[1;32m<ipython-input-4-caac56394ffb>\u001b[0m in \u001b[0;36m<module>\u001b[1;34m\u001b[0m\n\u001b[0;32m     14\u001b[0m \u001b[1;33m\u001b[0m\u001b[0m\n\u001b[0;32m     15\u001b[0m \u001b[1;32mfor\u001b[0m \u001b[0mcolor\u001b[0m \u001b[1;32min\u001b[0m \u001b[0munique_colors\u001b[0m\u001b[1;33m:\u001b[0m\u001b[1;33m\u001b[0m\u001b[1;33m\u001b[0m\u001b[0m\n\u001b[1;32m---> 16\u001b[1;33m     \u001b[1;32mif\u001b[0m \u001b[0mcolor\u001b[0m\u001b[1;33m[\u001b[0m\u001b[1;36m2\u001b[0m\u001b[1;33m]\u001b[0m\u001b[1;33m[\u001b[0m\u001b[1;36m2\u001b[0m\u001b[1;33m]\u001b[0m \u001b[1;33m>\u001b[0m \u001b[1;36m0\u001b[0m\u001b[1;33m:\u001b[0m\u001b[1;33m\u001b[0m\u001b[1;33m\u001b[0m\u001b[0m\n\u001b[0m\u001b[0;32m     17\u001b[0m         \u001b[0mcolor_c\u001b[0m \u001b[1;33m=\u001b[0m \u001b[1;33m(\u001b[0m\u001b[0mcolor\u001b[0m\u001b[1;33m[\u001b[0m\u001b[1;36m1\u001b[0m\u001b[1;33m]\u001b[0m\u001b[1;33m[\u001b[0m\u001b[1;36m0\u001b[0m\u001b[1;33m]\u001b[0m\u001b[1;33m,\u001b[0m\u001b[0mcolor\u001b[0m\u001b[1;33m[\u001b[0m\u001b[1;36m1\u001b[0m\u001b[1;33m]\u001b[0m\u001b[1;33m[\u001b[0m\u001b[1;36m1\u001b[0m\u001b[1;33m]\u001b[0m\u001b[1;33m,\u001b[0m\u001b[0mcolor\u001b[0m\u001b[1;33m[\u001b[0m\u001b[1;36m1\u001b[0m\u001b[1;33m]\u001b[0m\u001b[1;33m[\u001b[0m\u001b[1;36m2\u001b[0m\u001b[1;33m]\u001b[0m\u001b[1;33m)\u001b[0m\u001b[1;33m\u001b[0m\u001b[1;33m\u001b[0m\u001b[0m\n\u001b[0;32m     18\u001b[0m         \u001b[0mrand_color\u001b[0m\u001b[1;33m=\u001b[0m\u001b[1;33m(\u001b[0m\u001b[0mrandint\u001b[0m\u001b[1;33m(\u001b[0m\u001b[1;36m0\u001b[0m\u001b[1;33m,\u001b[0m\u001b[1;36m255\u001b[0m\u001b[1;33m)\u001b[0m\u001b[1;33m,\u001b[0m\u001b[0mrandint\u001b[0m\u001b[1;33m(\u001b[0m\u001b[1;36m0\u001b[0m\u001b[1;33m,\u001b[0m\u001b[1;36m255\u001b[0m\u001b[1;33m)\u001b[0m\u001b[1;33m,\u001b[0m\u001b[0mrandint\u001b[0m\u001b[1;33m(\u001b[0m\u001b[1;36m0\u001b[0m\u001b[1;33m,\u001b[0m\u001b[1;36m255\u001b[0m\u001b[1;33m)\u001b[0m\u001b[1;33m)\u001b[0m\u001b[1;33m\u001b[0m\u001b[1;33m\u001b[0m\u001b[0m\n",
      "\u001b[1;31mIndexError\u001b[0m: tuple index out of range"
     ]
    }
   ],
   "source": [
    "from PIL import Image\n",
    "test_image = Image.open(\"output.png\") \n",
    "\n",
    "test_size = test_image.size\n",
    "base_size = (test_size[0]+100,test_size[1]+100)\n",
    "base_image = Image.new(mode=\"RGB\", size=base_size, color=(25,128,75))\n",
    "\n",
    "base_image.paste(test_image, (50,50))\n",
    "unique_colors = test_image.getcolors()\n",
    "\n",
    "\n",
    "from random import randint\n",
    "pixels = base_image.load()\n",
    "\n",
    "for color in unique_colors:\n",
    "    if color[2][2] > 0:\n",
    "        color_c = (color[1][0],color[1][1],color[1][2])\n",
    "        rand_color=(randint(0,255),randint(0,255),randint(0,255))\n",
    "        for i in range(base_image.size[0]):\n",
    "            for j in range(base_image.size[1]):\n",
    "                if pixels[i,j] == color_c:\n",
    "                    pixels[i,j] = rand_color\n",
    "                    \n",
    "base_mask = Image.new(mode=\"RGB\", size=base_size, color=(0,0,0,0))\n",
    "base_mask.putalpha(0)\n",
    "base_mask.paste(microbe_image, (50,50), mask=microbe_image)  \n",
    "\n",
    "\n",
    "full_image = Image.new(mode=\"RGB\", size=base_size, color=(25,128,75))\n",
    "full_image.paste(base_image, (50,50), mask=base_mask) "
   ]
  },
  {
   "cell_type": "code",
   "execution_count": 6,
   "metadata": {
    "ExecuteTime": {
     "end_time": "2021-09-07T18:55:19.696790Z",
     "start_time": "2021-09-07T18:55:19.665454Z"
    }
   },
   "outputs": [
    {
     "ename": "ModuleNotFoundError",
     "evalue": "No module named 'randomize_image'",
     "output_type": "error",
     "traceback": [
      "\u001b[1;31m---------------------------------------------------------------------------\u001b[0m",
      "\u001b[1;31mModuleNotFoundError\u001b[0m                       Traceback (most recent call last)",
      "\u001b[1;32m<ipython-input-6-3c5c31426c72>\u001b[0m in \u001b[0;36m<module>\u001b[1;34m\u001b[0m\n\u001b[0;32m     69\u001b[0m \u001b[1;32mfrom\u001b[0m \u001b[0mPIL\u001b[0m \u001b[1;32mimport\u001b[0m \u001b[0mImage\u001b[0m\u001b[1;33m\u001b[0m\u001b[1;33m\u001b[0m\u001b[0m\n\u001b[0;32m     70\u001b[0m \u001b[1;32mimport\u001b[0m \u001b[0mrandom\u001b[0m\u001b[1;33m\u001b[0m\u001b[1;33m\u001b[0m\u001b[0m\n\u001b[1;32m---> 71\u001b[1;33m \u001b[1;32mimport\u001b[0m \u001b[0mrandomize_image\u001b[0m\u001b[1;33m\u001b[0m\u001b[1;33m\u001b[0m\u001b[0m\n\u001b[0m\u001b[0;32m     72\u001b[0m \u001b[1;32mimport\u001b[0m \u001b[0mos\u001b[0m\u001b[1;33m\u001b[0m\u001b[1;33m\u001b[0m\u001b[0m\n\u001b[0;32m     73\u001b[0m \u001b[1;33m\u001b[0m\u001b[0m\n",
      "\u001b[1;31mModuleNotFoundError\u001b[0m: No module named 'randomize_image'"
     ]
    }
   ],
   "source": [
    "from PIL import Image\n",
    "from random import randint\n",
    "import random\n",
    "import os\n",
    "\n",
    "def full_random_image():\n",
    "\n",
    "    image_name = random.choice(os.listdir(\"images\"))\n",
    "    asset_image = Image.open(\"images/\"+image_name)\n",
    "\n",
    "    asset_size = asset_image.size\n",
    "    base_size = (asset_size[0]+100,asset_size[1]+100)\n",
    "    base_image = Image.new(mode=\"RGB\", size=base_size, color=(0,0,0,0))\n",
    "    base_image.paste(asset_image, (50,50), mask=asset_image)\n",
    "\n",
    "    u_colors = asset_image.getcolors()\n",
    "\n",
    "    pixels = base_image.load() # create the pixel map\n",
    "    no_change = []\n",
    "\n",
    "    for color in u_colors:\n",
    "        if color[1][3] > 0:\n",
    "            color_c = (color[1][0],color[1][1],color[1][2])\n",
    "            if color_c not in no_change:\n",
    "                rand_color = (randint(0,255),randint(0,255),randint(0,255))\n",
    "                for i in range(base_image.size[0]): # for every pixel:\n",
    "                    for j in range(base_image.size[1]):\n",
    "                        if pixels[i,j] == color_c:\n",
    "                            pixels[i,j] = rand_color\n",
    "            \n",
    "\n",
    "    base_mask = Image.new(mode=\"RGB\", size=base_size, color=(0,0,0,0))\n",
    "    base_mask.putalpha(0)\n",
    "    base_mask.paste(asset_image, (50,50), mask=asset_image)\n",
    "    \n",
    "    return((base_image,base_mask))\n",
    "\n",
    "def random_color_image(image_name):\n",
    "\n",
    "    asset_image = Image.open(\"images/\"+image_name)\n",
    "\n",
    "    asset_size = asset_image.size\n",
    "    base_size = (asset_size[0]+100,asset_size[1]+100)\n",
    "    base_image = Image.new(mode=\"RGB\", size=base_size, color=(0,0,0,0))\n",
    "    base_image.paste(asset_image, (50,50), mask=asset_image)\n",
    "\n",
    "    u_colors = asset_image.getcolors()\n",
    "\n",
    "    pixels = base_image.load() # create the pixel map\n",
    "    no_change = []\n",
    "\n",
    "    for color in u_colors:\n",
    "        if color[1][3] > 0:\n",
    "            color_c = (color[1][0],color[1][1],color[1][2])\n",
    "            if color_c not in no_change:\n",
    "                rand_color = (randint(0,255),randint(0,255),randint(0,255))\n",
    "                for i in range(base_image.size[0]): # for every pixel:\n",
    "                    for j in range(base_image.size[1]):\n",
    "                        if pixels[i,j] == color_c:\n",
    "                            pixels[i,j] = rand_color\n",
    "            \n",
    "\n",
    "    base_mask = Image.new(mode=\"RGB\", size=base_size, color=(0,0,0,0))\n",
    "    base_mask.putalpha(0)\n",
    "    base_mask.paste(asset_image, (50,50), mask=asset_image)\n",
    "    \n",
    "    return((base_image,base_mask))\n",
    "\n",
    "from PIL import Image\n",
    "import random\n",
    "import randomize_image\n",
    "import os\n",
    "\n",
    "\n",
    "num_iterations = 1\n",
    "test_image = randomize_image.full_random_image()\n",
    "test_size = test_image[0].size\n",
    "images = os.listdir(\"images\")\n",
    "\n",
    "for i in images:\n",
    "    for n in range(num_iterations):\n",
    "        rand_color = (random.randint(200,255),random.randint(200,255),random.randint(200,255))\n",
    "        full_image = Image.new(mode=\"RGB\", size=test_size, color=rand_color)\n",
    "        asset_image = randomize_image.random_color_image(i)\n",
    "        full_image.paste(asset_image[0], (0,0), mask=asset_image[1])\n",
    "        hash = random.getrandbits(64)\n",
    "        if not os.path.exists(\"collections/single/\"+i.strip(\".png\")):\n",
    "            os.makedirs(\"collections/single/\"+i.strip(\".png\"))\n",
    "        full_image.save(\"collections/single/\"+i.strip(\".png\")+\"/\"+i.strip(\".png\")+\"_%016x.png\" % hash)\n",
    "\n"
   ]
  },
  {
   "cell_type": "code",
   "execution_count": null,
   "metadata": {},
   "outputs": [],
   "source": []
  }
 ],
 "metadata": {
  "kernelspec": {
   "display_name": "Python 3",
   "language": "python",
   "name": "python3"
  },
  "language_info": {
   "codemirror_mode": {
    "name": "ipython",
    "version": 3
   },
   "file_extension": ".py",
   "mimetype": "text/x-python",
   "name": "python",
   "nbconvert_exporter": "python",
   "pygments_lexer": "ipython3",
   "version": "3.7.7"
  },
  "latex_envs": {
   "LaTeX_envs_menu_present": true,
   "autoclose": false,
   "autocomplete": true,
   "bibliofile": "biblio.bib",
   "cite_by": "apalike",
   "current_citInitial": 1,
   "eqLabelWithNumbers": true,
   "eqNumInitial": 1,
   "hotkeys": {
    "equation": "Ctrl-E",
    "itemize": "Ctrl-I"
   },
   "labels_anchors": false,
   "latex_user_defs": false,
   "report_style_numbering": true,
   "user_envs_cfg": false
  }
 },
 "nbformat": 4,
 "nbformat_minor": 4
}
